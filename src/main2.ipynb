{
 "cells": [
  {
   "cell_type": "code",
   "execution_count": 1,
   "id": "3f20f1cd-efa5-4b4b-903e-a36c23fa20c7",
   "metadata": {},
   "outputs": [
    {
     "name": "stdout",
     "output_type": "stream",
     "text": [
      "WARNING:tensorflow:From C:\\Users\\mario\\anaconda3\\envs\\tf-gpu\\lib\\site-packages\\keras\\src\\losses.py:2976: The name tf.losses.sparse_softmax_cross_entropy is deprecated. Please use tf.compat.v1.losses.sparse_softmax_cross_entropy instead.\n",
      "\n"
     ]
    }
   ],
   "source": [
    "from DataGen import DataGenerator\n",
    "import numpy as np\n",
    "from tensorflow.keras.optimizers import Adam\n",
    "from tensorflow.keras.models import Sequential\n",
    "from tensorflow.keras.layers import Dense, Reshape, Flatten, Conv2D, Conv2DTranspose, LeakyReLU, Dropout, BatchNormalization\n",
    "from tensorflow.keras.utils import plot_model\n",
    "import matplotlib.pyplot as plt\n",
    "import pandas as pd\n",
    "import os\n",
    "import json\n",
    "import matplotlib.pyplot as plt\n",
    "from PIL import Image\n",
    "from IPython.display import clear_output"
   ]
  },
  {
   "cell_type": "code",
   "execution_count": 2,
   "id": "19c0883d-2bff-4e6c-8c25-f8b4ac861e23",
   "metadata": {},
   "outputs": [],
   "source": [
    "# Hyperparameters\n",
    "input_dim = (96, 96, 3)\n",
    "z_dim = 100\n",
    "disc_conv_filters = [16, 32, 64, 128]\n",
    "disc_conv_kernels = [(3, 3), (3, 3), (3, 3), (3, 3)]\n",
    "gen_conv_filters = [128, 64, 32, 3]\n",
    "gen_conv_kernels = [(3, 3), (3, 3), (3, 3), (3, 3)]\n",
    "lr = 0.002\n",
    "batch_size = 256\n",
    "epochs = 50"
   ]
  },
  {
   "cell_type": "code",
   "execution_count": 3,
   "id": "d4fbbae0-3607-47db-bd91-380ab03e7c26",
   "metadata": {},
   "outputs": [],
   "source": [
    "experiment_folder = os.path.abspath(os.path.join('..', 'Experimentos'))\n",
    "model_name = 'GAN'\n",
    "image_path = os.path.abspath(os.path.join('..', 'Dataset'))\n",
    "data_path = os.path.join(image_path, 'wclasses.csv')\n",
    "\n",
    "model_path = os.path.abspath(os.path.join(experiment_folder, model_name))\n",
    "if not os.path.exists(model_path):\n",
    "    os.mkdir(model_path)\n",
    "\n",
    "if len(os.listdir(os.path.join(experiment_folder, model_name))) == 0:\n",
    "    exp_id = 1\n",
    "else:\n",
    "    exp_id = len(os.listdir(os.path.join(experiment_folder, model_name))) + 1\n",
    "\n",
    "current_experiment_path = os.path.join(experiment_folder, model_name, 'Exp_'+str(exp_id))\n",
    "if not os.path.exists(current_experiment_path):\n",
    "    os.mkdir(current_experiment_path)"
   ]
  },
  {
   "cell_type": "code",
   "execution_count": 4,
   "id": "e0e2bd30-9de7-446a-9d03-f27af4494076",
   "metadata": {},
   "outputs": [],
   "source": [
    "hyperparams = {\n",
    "    \"input_dim\":input_dim,\n",
    "    \"z_dim\":z_dim,\n",
    "    \"disc_conv_filters\":disc_conv_filters,\n",
    "    \"disc_conv_kernels\":disc_conv_kernels,\n",
    "    \"gen_conv_filters\":gen_conv_filters,\n",
    "    \"gen_conv_kernels\":gen_conv_kernels,\n",
    "    \"learning rate\":lr,\n",
    "    \"batch_size\":batch_size,\n",
    "    \"epochs\":epochs,\n",
    "    \"opt\":\"Adam\",\n",
    "    \"loss\":\"binary_crossentropy\",\n",
    "    \"data_path\":data_path\n",
    "}\n",
    "\n",
    "with open(os.path.join(current_experiment_path, 'hyperparams.json'), 'w') as f:\n",
    "    json.dump(hyperparams, f)"
   ]
  },
  {
   "cell_type": "code",
   "execution_count": 5,
   "id": "1264fcfd-8159-4dbe-b29c-6719dab6ba92",
   "metadata": {},
   "outputs": [],
   "source": [
    "# definimos el discriminador: en este caso va a ser convolucional\n",
    "def define_discriminator(in_shape, disc_conv_filters, disc_conv_kernels, use_dropout=False):\n",
    "    model = Sequential(name='Discriminator')\n",
    "    for i in range(len(disc_conv_filters)):\n",
    "        if i == 0:\n",
    "            model.add(Conv2D(disc_conv_filters[i], disc_conv_kernels[i], strides=(2, 2), padding='same', input_shape=in_shape))\n",
    "        else:\n",
    "            model.add(Conv2D(disc_conv_filters[i], disc_conv_kernels[i], strides=(2, 2), padding='same'))\n",
    "        model.add(LeakyReLU(alpha=0.2))\n",
    "        if use_dropout:\n",
    "            model.add(Dropout(0.25))\n",
    "    model.add(Flatten())\n",
    "    model.add(Dense(1, activation='sigmoid'))\n",
    "    # compilamos el modelo\n",
    "    opt = Adam(learning_rate=lr, beta_1=0.5)\n",
    "    model.compile(loss='binary_crossentropy', optimizer=opt, metrics=['accuracy'])\n",
    "    model.summary()\n",
    "    return model"
   ]
  },
  {
   "cell_type": "code",
   "execution_count": 6,
   "id": "00dbe844-851e-4e21-90c0-dc2a880b8abb",
   "metadata": {},
   "outputs": [],
   "source": [
    "# definimos el generador\n",
    "def define_generator(latent_dim, starting_dim, gen_conv_filters, gen_conv_kernels):\n",
    "    model = Sequential(name='Generator')\n",
    "    n_nodes = starting_dim[0] * starting_dim[1] * starting_dim[2]\n",
    "    model.add(Dense(n_nodes, input_dim=latent_dim))\n",
    "    model.add(LeakyReLU(alpha=0.2))\n",
    "    model.add(Reshape(starting_dim))\n",
    "    model.add(BatchNormalization())\n",
    "\n",
    "    for i in range(len(gen_conv_filters)-1):\n",
    "        model.add(Conv2DTranspose(gen_conv_filters[i], gen_conv_kernels[i], strides=(2,2), padding='same'))\n",
    "        model.add(BatchNormalization())\n",
    "        model.add(LeakyReLU(alpha=0.2))\n",
    "\n",
    "    model.add(Conv2D(gen_conv_filters[-1], gen_conv_kernels[-1], activation='sigmoid', padding='same'))\n",
    "    model.summary()\n",
    "    return model"
   ]
  },
  {
   "cell_type": "code",
   "execution_count": 7,
   "id": "750fe396-4069-4a7b-9e9b-21da4e13bea4",
   "metadata": {},
   "outputs": [],
   "source": [
    "# definimos el modelo GAN combinando generador y discriminador, para entrenar el generador\n",
    "def define_gan(g_model, d_model):\n",
    "    # Así que congelamos el discriminador:\n",
    "    d_model.trainable = False\n",
    "    # ahora conectamos el G(z) al D(x)\n",
    "    model = Sequential()\n",
    "    # añadimos el generador primero: él es el encargado de generar una muestra\n",
    "    # a partir del espacio latente\n",
    "    model.add(g_model)\n",
    "    # y el discriminador después: le introducimos la muestra generada por el \n",
    "    # G(z) para que nos diga si cree que es real o fake\n",
    "    model.add(d_model)\n",
    "    # y ahora sí, compilamos el modelo\n",
    "    model.compile(loss='binary_crossentropy', optimizer=Adam(learning_rate=lr, beta_1=0.5)) \n",
    "    return model"
   ]
  },
  {
   "cell_type": "code",
   "execution_count": 8,
   "id": "f035fd20-6996-44d8-8bda-1bec82b8a4a6",
   "metadata": {},
   "outputs": [],
   "source": [
    "# nos creamos una función que nos devuelva n_samples del dataset con sus \n",
    "# etiquetas (1) \n",
    "def generate_real_samples(dataset, i):\n",
    "    X, _ = dataset[i]\n",
    "    # generamos las etiquetas reales (1)\n",
    "    y = np.ones((len(X), 1))\n",
    "    return X, y"
   ]
  },
  {
   "cell_type": "code",
   "execution_count": 9,
   "id": "0ec04096-6329-41c1-a173-c6eb167e215b",
   "metadata": {},
   "outputs": [],
   "source": [
    "# generamos los vectores latentes que introduciremos al generador\n",
    "def generate_latent_points(latent_dim, batch_size):\n",
    "    # generamos un vector de batch_size * latent_dim números aleatorios\n",
    "    # latent_dim es la dimensión del vector latente\n",
    "    # batch_size es el número de elementos por batch\n",
    "    x_input = np.random.randn(latent_dim * batch_size)\n",
    "    # redimensionamos el vector para que tenga un tamaño (batch_size, latent_dim)\n",
    "    x_input = x_input.reshape(batch_size, latent_dim)\n",
    "    return x_input\n",
    "\n",
    "# creamos datos fake con el generador (dinero falsificado)\n",
    "def generate_fake_samples(g_model, latent_dim, n_samples): \n",
    "    # usamos la función anterior para generar los vectores latentes que \n",
    "    # necesitamos para generar muestras fake\n",
    "    x_input = generate_latent_points(latent_dim, n_samples)\n",
    "    # le introducimos los vectores latentes al generador para obtener\n",
    "    # muestras similares a las reales\n",
    "    X = g_model.predict(x_input)\n",
    "    print(X.shape)\n",
    "    # le asignamos la etiqueta 0 (porque utilizaremos esta función para\n",
    "    # entrenar el D)\n",
    "    y = np.zeros((n_samples, 1)) \n",
    "    return X, y"
   ]
  },
  {
   "cell_type": "code",
   "execution_count": 10,
   "id": "4b1966ac-a404-49be-9162-41bdb607dce8",
   "metadata": {},
   "outputs": [],
   "source": [
    "# función para guardar las imágenes generadas\n",
    "def save_plot(save_path, examples, epoch, n=10):\n",
    "    for i in range(n * n):\n",
    "        plt.subplot(n, n, 1 + i)\n",
    "        plt.axis('off')\n",
    "        plt.imshow(examples[i, :, :, :])\n",
    "    # guardamos las imágenes\n",
    "    filename = 'generated_plot_e%03d.png' % (epoch+1)\n",
    "    path = os.path.join(save_path, filename)\n",
    "    plt.savefig(path)\n",
    "    plt.close()"
   ]
  },
  {
   "cell_type": "code",
   "execution_count": 11,
   "id": "69dd27b7-c90c-49a0-b70c-54452d9733ed",
   "metadata": {},
   "outputs": [],
   "source": [
    "# función para entrenar la GAN: el discriminador y el generador\n",
    "def train(g_model, d_model, gan_model, dataset, latent_dim, save_path, n_epochs=100, n_batch=256):\n",
    "    history = {'generator_loss': [], 'discriminator_loss': []}\n",
    "    for epoch in range(n_epochs):\n",
    "        generator_step_losses = []\n",
    "        discriminator_step_losses = []\n",
    "        # bucle para los batch\n",
    "        for batch in range(len(dataset)):\n",
    "            # preparamos los datos reales\n",
    "            X_real, y_real = generate_real_samples(dataset, batch)\n",
    "            # generamos 'half_batch' datos falsos\n",
    "            X_fake, y_fake = generate_fake_samples(g_model, latent_dim, n_batch//2)\n",
    "            # juntamos las imágenes/etiquetas reales con las falsas\n",
    "            X, y = np.vstack((X_real, X_fake)), np.vstack((y_real, y_fake))\n",
    "            # actualizamos los pesos del discriminador\n",
    "            d_loss, _ = d_model.train_on_batch(X, y)\n",
    "            discriminator_step_losses.append(d_loss)\n",
    "            # preparamos los puntos en el espacio latente: serán la entrada al\n",
    "            # modelo GAN con el que entrenaremos el generador\n",
    "            X_gan = generate_latent_points(latent_dim, n_batch)\n",
    "            # creamos etiquetas invertidas para el generador: utilizamos el D(x) \n",
    "            # para que piense que las muestras que le introducimos son reales, y\n",
    "            # en caso de que diga que no son reales, aprovechamos la información\n",
    "            # de sus gradientes para actualizar el G(z) para que la próxima vez\n",
    "            # los datos generados por G(z) sean más plausibles (parecidos a los \n",
    "            # reales)\n",
    "            y_gan = np.ones((n_batch, 1))\n",
    "            # como acabamos de ver, entrenamos el generador de forma que actualice\n",
    "            # sus pesos usando los gradientes del discriminador\n",
    "            # tened en cuenta que en este modelo (gan_model) el discriminador está\n",
    "            # congelado, por lo que no se actualizan sus pesos: no queremos \"untar\"\n",
    "            # a nuestro policía, lo que queremos es fabricar dinero más realista.\n",
    "            g_loss = gan_model.train_on_batch(X_gan, y_gan)\n",
    "            generator_step_losses.append(g_loss)\n",
    "            # mostramos el progreso\n",
    "            clear_output(wait=True)\n",
    "            print('>%d, %d/%d, d=%.3f, g=%.3f' % (epoch+1, batch+1, len(dataset), d_loss, g_loss))\n",
    "        history['generator_loss'].append(np.mean(generator_step_losses))\n",
    "        history['discriminator_loss'].append(np.mean(discriminator_step_losses))\n",
    "        print(f'Generator Mean Loss: {history[\"generator_loss\"][-1]}, of {len(history[\"generator_loss\"])}')\n",
    "        print(f'Discriminator Mean Loss: {history[\"discriminator_loss\"][-1]}, of {len(history[\"discriminator_loss\"])}')\n",
    "        # evaluamos el desempeño del modelo cada 10 épocas\n",
    "        if (epoch+1) % 10 == 0 or epoch == 0:\n",
    "            # preparamos ejemplos reales\n",
    "            X_real, y_real = generate_real_samples(dataset, n_batch)\n",
    "            # evaluamos el discriminador con datos reales\n",
    "            _, acc_real = d_model.evaluate(X_real, y_real, verbose=0)\n",
    "            # preparamos ejemplos fake\n",
    "            x_fake, y_fake = generate_fake_samples(g_model, latent_dim, n_batch)\n",
    "            # evaluamos el discriminador con datos fake\n",
    "            _, acc_fake = d_model.evaluate(x_fake, y_fake, verbose=0)\n",
    "            # mostramos cómo de bueno es nuestro policía\n",
    "            print('>Accuracy real: %.0f%%, fake: %.0f%%' % (acc_real*100, acc_fake*100))\n",
    "            # guardamos las imágenes generadas\n",
    "            save_plot(save_path, x_fake, epoch, n=5)\n",
    "            # guardamos el generador para tenerlo disponible más tarde\n",
    "            filename = 'generator_model_%03d.h5' % (epoch + 1)\n",
    "            g_model.save(os.path.join(save_path, filename))\n",
    "            filename = 'discriminator_model_%03d.h5' % (epoch + 1)\n",
    "            d_model.save(os.path.join(save_path, filename))\n",
    "            filename = 'gan_model_%03d.h5' % (epoch + 1)\n",
    "            gan_model.save(os.path.join(save_path, filename))\n",
    "    filename = 'generator_model.h5'\n",
    "    g_model.save(os.path.join(current_experiment_path, filename))\n",
    "    filename = 'discriminator_model.h5'\n",
    "    d_model.save(os.path.join(current_experiment_path, filename))\n",
    "    filename = 'gan_model.h5'\n",
    "    gan_model.save(os.path.join(current_experiment_path, filename))\n",
    "    return history"
   ]
  },
  {
   "cell_type": "code",
   "execution_count": 12,
   "id": "5a095ca8-9958-46bf-bb94-c6ad7667b020",
   "metadata": {},
   "outputs": [
    {
     "name": "stdout",
     "output_type": "stream",
     "text": [
      "WARNING:tensorflow:From C:\\Users\\mario\\anaconda3\\envs\\tf-gpu\\lib\\site-packages\\keras\\src\\backend.py:873: The name tf.get_default_graph is deprecated. Please use tf.compat.v1.get_default_graph instead.\n",
      "\n",
      "Model: \"Discriminator\"\n",
      "_________________________________________________________________\n",
      " Layer (type)                Output Shape              Param #   \n",
      "=================================================================\n",
      " conv2d (Conv2D)             (None, 48, 48, 16)        448       \n",
      "                                                                 \n",
      " leaky_re_lu (LeakyReLU)     (None, 48, 48, 16)        0         \n",
      "                                                                 \n",
      " dropout (Dropout)           (None, 48, 48, 16)        0         \n",
      "                                                                 \n",
      " conv2d_1 (Conv2D)           (None, 24, 24, 32)        4640      \n",
      "                                                                 \n",
      " leaky_re_lu_1 (LeakyReLU)   (None, 24, 24, 32)        0         \n",
      "                                                                 \n",
      " dropout_1 (Dropout)         (None, 24, 24, 32)        0         \n",
      "                                                                 \n",
      " conv2d_2 (Conv2D)           (None, 12, 12, 64)        18496     \n",
      "                                                                 \n",
      " leaky_re_lu_2 (LeakyReLU)   (None, 12, 12, 64)        0         \n",
      "                                                                 \n",
      " dropout_2 (Dropout)         (None, 12, 12, 64)        0         \n",
      "                                                                 \n",
      " conv2d_3 (Conv2D)           (None, 6, 6, 128)         73856     \n",
      "                                                                 \n",
      " leaky_re_lu_3 (LeakyReLU)   (None, 6, 6, 128)         0         \n",
      "                                                                 \n",
      " dropout_3 (Dropout)         (None, 6, 6, 128)         0         \n",
      "                                                                 \n",
      " flatten (Flatten)           (None, 4608)              0         \n",
      "                                                                 \n",
      " dense (Dense)               (None, 1)                 4609      \n",
      "                                                                 \n",
      "=================================================================\n",
      "Total params: 102049 (398.63 KB)\n",
      "Trainable params: 102049 (398.63 KB)\n",
      "Non-trainable params: 0 (0.00 Byte)\n",
      "_________________________________________________________________\n",
      "WARNING:tensorflow:From C:\\Users\\mario\\anaconda3\\envs\\tf-gpu\\lib\\site-packages\\keras\\src\\layers\\normalization\\batch_normalization.py:979: The name tf.nn.fused_batch_norm is deprecated. Please use tf.compat.v1.nn.fused_batch_norm instead.\n",
      "\n",
      "Model: \"Generator\"\n",
      "_________________________________________________________________\n",
      " Layer (type)                Output Shape              Param #   \n",
      "=================================================================\n",
      " dense_1 (Dense)             (None, 18432)             1861632   \n",
      "                                                                 \n",
      " leaky_re_lu_4 (LeakyReLU)   (None, 18432)             0         \n",
      "                                                                 \n",
      " reshape (Reshape)           (None, 12, 12, 128)       0         \n",
      "                                                                 \n",
      " batch_normalization (Batch  (None, 12, 12, 128)       512       \n",
      " Normalization)                                                  \n",
      "                                                                 \n",
      " conv2d_transpose (Conv2DTr  (None, 24, 24, 128)       147584    \n",
      " anspose)                                                        \n",
      "                                                                 \n",
      " batch_normalization_1 (Bat  (None, 24, 24, 128)       512       \n",
      " chNormalization)                                                \n",
      "                                                                 \n",
      " leaky_re_lu_5 (LeakyReLU)   (None, 24, 24, 128)       0         \n",
      "                                                                 \n",
      " conv2d_transpose_1 (Conv2D  (None, 48, 48, 64)        73792     \n",
      " Transpose)                                                      \n",
      "                                                                 \n",
      " batch_normalization_2 (Bat  (None, 48, 48, 64)        256       \n",
      " chNormalization)                                                \n",
      "                                                                 \n",
      " leaky_re_lu_6 (LeakyReLU)   (None, 48, 48, 64)        0         \n",
      "                                                                 \n",
      " conv2d_transpose_2 (Conv2D  (None, 96, 96, 32)        18464     \n",
      " Transpose)                                                      \n",
      "                                                                 \n",
      " batch_normalization_3 (Bat  (None, 96, 96, 32)        128       \n",
      " chNormalization)                                                \n",
      "                                                                 \n",
      " leaky_re_lu_7 (LeakyReLU)   (None, 96, 96, 32)        0         \n",
      "                                                                 \n",
      " conv2d_4 (Conv2D)           (None, 96, 96, 3)         867       \n",
      "                                                                 \n",
      "=================================================================\n",
      "Total params: 2103747 (8.03 MB)\n",
      "Trainable params: 2103043 (8.02 MB)\n",
      "Non-trainable params: 704 (2.75 KB)\n",
      "_________________________________________________________________\n"
     ]
    }
   ],
   "source": [
    "df = pd.read_csv(data_path, sep=',', encoding='ANSI')\n",
    "# Load data\n",
    "dataset = DataGenerator(df, path_to_img=image_path, batch_size=batch_size, width=input_dim[0], height=input_dim[1], channels=input_dim[2], shuffle=True)\n",
    "# create the discriminator\n",
    "d_model = define_discriminator(input_dim, disc_conv_filters, disc_conv_kernels, use_dropout=True)\n",
    "# create the generator\n",
    "g_model = define_generator(z_dim, (12, 12, 128), gen_conv_filters, gen_conv_kernels)\n",
    "# create the gan\n",
    "gan_model = define_gan(g_model, d_model)"
   ]
  },
  {
   "cell_type": "code",
   "execution_count": 13,
   "id": "5f73d20c-a595-4cc5-9267-53e51b573742",
   "metadata": {},
   "outputs": [
    {
     "data": {
      "image/png": "[encoded data removed]",
      "text/plain": [
       "<IPython.core.display.Image object>"
      ]
     },
     "execution_count": 13,
     "metadata": {},
     "output_type": "execute_result"
    }
   ],
   "source": [
    "path = os.path.join(current_experiment_path, 'gan_generator.png')\n",
    "plot_model(g_model, to_file=path, show_shapes=True)\n",
    "path = os.path.join(current_experiment_path, 'gan_discriminator.png')\n",
    "plot_model(d_model, to_file=path, show_shapes=True)\n",
    "path = os.path.join(current_experiment_path, 'gan_complete.png')\n",
    "plot_model(gan_model, to_file=path, show_shapes=True)"
   ]
  },
  {
   "cell_type": "code",
   "execution_count": 14,
   "id": "582cad80-be95-4db0-ae67-63455aabda1d",
   "metadata": {},
   "outputs": [
    {
     "name": "stdout",
     "output_type": "stream",
     "text": [
      ">50, 637/637, d=0.702, g=1.312\n",
      "Generator Mean Loss: 0.823470605807134, of 50\n",
      "Discriminator Mean Loss: 0.7696376955209759, of 50\n",
      "8/8 [==============================] - 0s 26ms/step\n",
      "(256, 96, 96, 3)\n",
      ">Accuracy real: 0%, fake: 100%\n",
      "WARNING:tensorflow:Compiled the loaded model, but the compiled metrics have yet to be built. `model.compile_metrics` will be empty until you train or evaluate the model.\n",
      "WARNING:tensorflow:Compiled the loaded model, but the compiled metrics have yet to be built. `model.compile_metrics` will be empty until you train or evaluate the model.\n"
     ]
    }
   ],
   "source": [
    "# train model\n",
    "history = train(g_model, d_model, gan_model, dataset, z_dim, current_experiment_path, n_epochs=epochs, n_batch=batch_size)"
   ]
  },
  {
   "cell_type": "code",
   "execution_count": 15,
   "id": "0ada1296-7723-48f9-9529-9181c67ead1f",
   "metadata": {},
   "outputs": [
    {
     "name": "stdout",
     "output_type": "stream",
     "text": [
      "WARNING:tensorflow:Compiled the loaded model, but the compiled metrics have yet to be built. `model.compile_metrics` will be empty until you train or evaluate the model.\n"
     ]
    }
   ],
   "source": [
    "filename = 'generator_model.h5'\n",
    "g_model.save(os.path.join(current_experiment_path, filename))\n",
    "filename = 'discriminator_model.h5'\n",
    "d_model.save(os.path.join(current_experiment_path, filename))\n",
    "filename = 'gan_model.h5'\n",
    "gan_model.save(os.path.join(current_experiment_path, filename))"
   ]
  },
  {
   "cell_type": "code",
   "execution_count": 17,
   "id": "f0a20a15-79cf-465b-81b0-0e2807a5e55d",
   "metadata": {},
   "outputs": [
    {
     "data": {
      "image/png": "[encoded data removed]",
      "text/plain": [
       "<Figure size 640x480 with 1 Axes>"
      ]
     },
     "metadata": {},
     "output_type": "display_data"
    }
   ],
   "source": [
    "plt.plot(history['generator_loss'])\n",
    "plt.plot(history['discriminator_loss'])\n",
    "plt.title('GAN_Loss')\n",
    "plt.ylabel('loss')\n",
    "plt.xlabel('epoch')\n",
    "plt.legend(['generator', 'discriminator'])\n",
    "# guardamos las imágenes\n",
    "filename = 'gan_loss.png'\n",
    "path = os.path.join(current_experiment_path, filename)\n",
    "plt.savefig(path)\n",
    "plt.show()\n",
    "plt.close()"
   ]
  }
 ],
 "metadata": {
  "kernelspec": {
   "display_name": "Python 3 (ipykernel)",
   "language": "python",
   "name": "python3"
  },
  "language_info": {
   "codemirror_mode": {
    "name": "ipython",
    "version": 3
   },
   "file_extension": ".py",
   "mimetype": "text/x-python",
   "name": "python",
   "nbconvert_exporter": "python",
   "pygments_lexer": "ipython3",
   "version": "3.9.18"
  }
 },
 "nbformat": 4,
 "nbformat_minor": 5
}
