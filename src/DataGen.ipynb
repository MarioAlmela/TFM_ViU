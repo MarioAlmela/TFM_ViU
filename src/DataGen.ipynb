{
 "cells": [
  {
   "cell_type": "code",
   "execution_count": 4,
   "id": "0b63acf1-0248-48c6-9d12-7be9060f2ed8",
   "metadata": {},
   "outputs": [],
   "source": [
    "import tensorflow as tf\n",
    "import numpy as np\n",
    "import os\n",
    "from tensorflow.keras.preprocessing.image import img_to_array\n",
    "from PIL import Image\n",
    "from skimage.transform import resize"
   ]
  },
  {
   "cell_type": "code",
   "execution_count": 9,
   "id": "dbd6192f-9296-40e9-8ee8-8f6eff6ae9a4",
   "metadata": {},
   "outputs": [],
   "source": [
    "class DataGenerator(tf.keras.utils.Sequence):\n",
    "\n",
    "    def __init__(self, dataframe, batch_size, path_to_img, width, height, channels=3, shuffle=True):\n",
    "        self.df = dataframe\n",
    "        self.width = width\n",
    "        self.height = height\n",
    "        self.channels = channels\n",
    "        self.batch_size = batch_size//2\n",
    "        self.path = path_to_img\n",
    "        self.shuffle = shuffle\n",
    "        self.indexes = np.arange(len(self.df.index))\n",
    "\n",
    "    def __len__(self):\n",
    "        return int(np.ceil(len(self.indexes)/self.batch_size))\n",
    "\n",
    "    def on_epoch_end(self):\n",
    "        if self.shuffle:\n",
    "            np.random.shuffle(self.indexes)\n",
    "\n",
    "    def __getitem__(self, index):\n",
    "        indexes = self.indexes[index*self.batch_size: (index+1)*self.batch_size]\n",
    "\n",
    "        # Initialize data lists\n",
    "        X, Y = [], []\n",
    "\n",
    "        for idx in indexes:\n",
    "            x, y = self. get_sample(idx)\n",
    "            X.append(x)\n",
    "            Y.append(y)\n",
    "            \n",
    "        return np.array(X), np.array(Y)\n",
    "\n",
    "    def get_sample(self, idx):\n",
    "        df_row = self.df.iloc[idx]\n",
    "        image = Image.open(os.path.join(self.path, df_row['filename']))\n",
    "        image = image.resize((self.height, self.width))\n",
    "        image = np.asarray(image)\n",
    "        image2 = np.reshape(image, image.shape + (self.channels,))\n",
    "        image2.setflags(write=1)\n",
    "\n",
    "        # Preprocessing steps\n",
    "        image2 = self.norm(image2)\n",
    "\n",
    "        # Label\n",
    "        label = 1\n",
    "        return image2, label\n",
    "\n",
    "    def norm(self, image):\n",
    "        image = image/255.0\n",
    "        return image.astype(np.float32)"
   ]
  },
  {
   "cell_type": "code",
   "execution_count": null,
   "id": "42be5231-c340-4284-aa4e-76f7fb81dfa5",
   "metadata": {},
   "outputs": [],
   "source": []
  }
 ],
 "metadata": {
  "kernelspec": {
   "display_name": "Python 3 (ipykernel)",
   "language": "python",
   "name": "python3"
  },
  "language_info": {
   "codemirror_mode": {
    "name": "ipython",
    "version": 3
   },
   "file_extension": ".py",
   "mimetype": "text/x-python",
   "name": "python",
   "nbconvert_exporter": "python",
   "pygments_lexer": "ipython3",
   "version": "3.9.18"
  }
 },
 "nbformat": 4,
 "nbformat_minor": 5
}
